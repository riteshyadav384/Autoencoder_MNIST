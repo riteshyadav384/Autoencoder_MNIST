{
 "cells": [
  {
   "cell_type": "code",
   "execution_count": 45,
   "id": "963fa4c2",
   "metadata": {},
   "outputs": [],
   "source": [
    "from sklearn.pipeline import Pipeline\n",
    "import pandas as pd\n",
    "from sklearn.model_selection import train_test_split\n",
    "from sklearn.preprocessing import StandardScaler\n",
    "from sklearn.linear_model import LogisticRegression\n",
    "from sklearn.impute import SimpleImputer\n",
    "from sklearn.preprocessing import OneHotEncoder\n",
    "import numpy as np\n",
    "\n",
    "from sklearn import set_config\n",
    "set_config(display='diagram')"
   ]
  },
  {
   "cell_type": "markdown",
   "id": "8d49098b",
   "metadata": {},
   "source": [
    "## Example 1 [Scaler + Classifier]"
   ]
  },
  {
   "cell_type": "code",
   "execution_count": 36,
   "id": "634491fb",
   "metadata": {},
   "outputs": [],
   "source": [
    "steps = [(\"scaling\",StandardScaler()),(\"Classifier\", LogisticRegression())]"
   ]
  },
  {
   "cell_type": "code",
   "execution_count": 5,
   "id": "18c15151",
   "metadata": {},
   "outputs": [],
   "source": [
    "pipe = Pipeline(steps)"
   ]
  },
  {
   "cell_type": "code",
   "execution_count": 8,
   "id": "034c755c",
   "metadata": {},
   "outputs": [
    {
     "data": {
      "text/html": [
       "<style>#sk-162c55a6-258a-4f5d-9a22-f5304bbc2ac4 {color: black;background-color: white;}#sk-162c55a6-258a-4f5d-9a22-f5304bbc2ac4 pre{padding: 0;}#sk-162c55a6-258a-4f5d-9a22-f5304bbc2ac4 div.sk-toggleable {background-color: white;}#sk-162c55a6-258a-4f5d-9a22-f5304bbc2ac4 label.sk-toggleable__label {cursor: pointer;display: block;width: 100%;margin-bottom: 0;padding: 0.3em;box-sizing: border-box;text-align: center;}#sk-162c55a6-258a-4f5d-9a22-f5304bbc2ac4 label.sk-toggleable__label-arrow:before {content: \"▸\";float: left;margin-right: 0.25em;color: #696969;}#sk-162c55a6-258a-4f5d-9a22-f5304bbc2ac4 label.sk-toggleable__label-arrow:hover:before {color: black;}#sk-162c55a6-258a-4f5d-9a22-f5304bbc2ac4 div.sk-estimator:hover label.sk-toggleable__label-arrow:before {color: black;}#sk-162c55a6-258a-4f5d-9a22-f5304bbc2ac4 div.sk-toggleable__content {max-height: 0;max-width: 0;overflow: hidden;text-align: left;background-color: #f0f8ff;}#sk-162c55a6-258a-4f5d-9a22-f5304bbc2ac4 div.sk-toggleable__content pre {margin: 0.2em;color: black;border-radius: 0.25em;background-color: #f0f8ff;}#sk-162c55a6-258a-4f5d-9a22-f5304bbc2ac4 input.sk-toggleable__control:checked~div.sk-toggleable__content {max-height: 200px;max-width: 100%;overflow: auto;}#sk-162c55a6-258a-4f5d-9a22-f5304bbc2ac4 input.sk-toggleable__control:checked~label.sk-toggleable__label-arrow:before {content: \"▾\";}#sk-162c55a6-258a-4f5d-9a22-f5304bbc2ac4 div.sk-estimator input.sk-toggleable__control:checked~label.sk-toggleable__label {background-color: #d4ebff;}#sk-162c55a6-258a-4f5d-9a22-f5304bbc2ac4 div.sk-label input.sk-toggleable__control:checked~label.sk-toggleable__label {background-color: #d4ebff;}#sk-162c55a6-258a-4f5d-9a22-f5304bbc2ac4 input.sk-hidden--visually {border: 0;clip: rect(1px 1px 1px 1px);clip: rect(1px, 1px, 1px, 1px);height: 1px;margin: -1px;overflow: hidden;padding: 0;position: absolute;width: 1px;}#sk-162c55a6-258a-4f5d-9a22-f5304bbc2ac4 div.sk-estimator {font-family: monospace;background-color: #f0f8ff;border: 1px dotted black;border-radius: 0.25em;box-sizing: border-box;margin-bottom: 0.5em;}#sk-162c55a6-258a-4f5d-9a22-f5304bbc2ac4 div.sk-estimator:hover {background-color: #d4ebff;}#sk-162c55a6-258a-4f5d-9a22-f5304bbc2ac4 div.sk-parallel-item::after {content: \"\";width: 100%;border-bottom: 1px solid gray;flex-grow: 1;}#sk-162c55a6-258a-4f5d-9a22-f5304bbc2ac4 div.sk-label:hover label.sk-toggleable__label {background-color: #d4ebff;}#sk-162c55a6-258a-4f5d-9a22-f5304bbc2ac4 div.sk-serial::before {content: \"\";position: absolute;border-left: 1px solid gray;box-sizing: border-box;top: 2em;bottom: 0;left: 50%;}#sk-162c55a6-258a-4f5d-9a22-f5304bbc2ac4 div.sk-serial {display: flex;flex-direction: column;align-items: center;background-color: white;padding-right: 0.2em;padding-left: 0.2em;}#sk-162c55a6-258a-4f5d-9a22-f5304bbc2ac4 div.sk-item {z-index: 1;}#sk-162c55a6-258a-4f5d-9a22-f5304bbc2ac4 div.sk-parallel {display: flex;align-items: stretch;justify-content: center;background-color: white;}#sk-162c55a6-258a-4f5d-9a22-f5304bbc2ac4 div.sk-parallel::before {content: \"\";position: absolute;border-left: 1px solid gray;box-sizing: border-box;top: 2em;bottom: 0;left: 50%;}#sk-162c55a6-258a-4f5d-9a22-f5304bbc2ac4 div.sk-parallel-item {display: flex;flex-direction: column;position: relative;background-color: white;}#sk-162c55a6-258a-4f5d-9a22-f5304bbc2ac4 div.sk-parallel-item:first-child::after {align-self: flex-end;width: 50%;}#sk-162c55a6-258a-4f5d-9a22-f5304bbc2ac4 div.sk-parallel-item:last-child::after {align-self: flex-start;width: 50%;}#sk-162c55a6-258a-4f5d-9a22-f5304bbc2ac4 div.sk-parallel-item:only-child::after {width: 0;}#sk-162c55a6-258a-4f5d-9a22-f5304bbc2ac4 div.sk-dashed-wrapped {border: 1px dashed gray;margin: 0 0.4em 0.5em 0.4em;box-sizing: border-box;padding-bottom: 0.4em;background-color: white;position: relative;}#sk-162c55a6-258a-4f5d-9a22-f5304bbc2ac4 div.sk-label label {font-family: monospace;font-weight: bold;background-color: white;display: inline-block;line-height: 1.2em;}#sk-162c55a6-258a-4f5d-9a22-f5304bbc2ac4 div.sk-label-container {position: relative;z-index: 2;text-align: center;}#sk-162c55a6-258a-4f5d-9a22-f5304bbc2ac4 div.sk-container {/* jupyter's `normalize.less` sets `[hidden] { display: none; }` but bootstrap.min.css set `[hidden] { display: none !important; }` so we also need the `!important` here to be able to override the default hidden behavior on the sphinx rendered scikit-learn.org. See: https://github.com/scikit-learn/scikit-learn/issues/21755 */display: inline-block !important;position: relative;}#sk-162c55a6-258a-4f5d-9a22-f5304bbc2ac4 div.sk-text-repr-fallback {display: none;}</style><div id=\"sk-162c55a6-258a-4f5d-9a22-f5304bbc2ac4\" class=\"sk-top-container\"><div class=\"sk-text-repr-fallback\"><pre>Pipeline(steps=[(&#x27;scaling&#x27;, StandardScaler()),\n",
       "                (&#x27;Classifier&#x27;, LogisticRegression())])</pre><b>Please rerun this cell to show the HTML repr or trust the notebook.</b></div><div class=\"sk-container\" hidden><div class=\"sk-item sk-dashed-wrapped\"><div class=\"sk-label-container\"><div class=\"sk-label sk-toggleable\"><input class=\"sk-toggleable__control sk-hidden--visually\" id=\"f616ba21-4ad8-40dc-b3a3-ff907bab22ea\" type=\"checkbox\" ><label for=\"f616ba21-4ad8-40dc-b3a3-ff907bab22ea\" class=\"sk-toggleable__label sk-toggleable__label-arrow\">Pipeline</label><div class=\"sk-toggleable__content\"><pre>Pipeline(steps=[(&#x27;scaling&#x27;, StandardScaler()),\n",
       "                (&#x27;Classifier&#x27;, LogisticRegression())])</pre></div></div></div><div class=\"sk-serial\"><div class=\"sk-item\"><div class=\"sk-estimator sk-toggleable\"><input class=\"sk-toggleable__control sk-hidden--visually\" id=\"9d7e7f86-c95a-4a0f-a37a-31d9c677a2e1\" type=\"checkbox\" ><label for=\"9d7e7f86-c95a-4a0f-a37a-31d9c677a2e1\" class=\"sk-toggleable__label sk-toggleable__label-arrow\">StandardScaler</label><div class=\"sk-toggleable__content\"><pre>StandardScaler()</pre></div></div></div><div class=\"sk-item\"><div class=\"sk-estimator sk-toggleable\"><input class=\"sk-toggleable__control sk-hidden--visually\" id=\"14fd6a7b-e1e5-43db-bf8b-73e3f9e41dfd\" type=\"checkbox\" ><label for=\"14fd6a7b-e1e5-43db-bf8b-73e3f9e41dfd\" class=\"sk-toggleable__label sk-toggleable__label-arrow\">LogisticRegression</label><div class=\"sk-toggleable__content\"><pre>LogisticRegression()</pre></div></div></div></div></div></div></div>"
      ],
      "text/plain": [
       "Pipeline(steps=[('scaling', StandardScaler()),\n",
       "                ('Classifier', LogisticRegression())])"
      ]
     },
     "execution_count": 8,
     "metadata": {},
     "output_type": "execute_result"
    }
   ],
   "source": [
    "pipe"
   ]
  },
  {
   "cell_type": "code",
   "execution_count": 17,
   "id": "159118fc",
   "metadata": {
    "scrolled": true
   },
   "outputs": [],
   "source": [
    "from sklearn.datasets import load_breast_cancer\n",
    "data=load_breast_cancer()\n"
   ]
  },
  {
   "cell_type": "code",
   "execution_count": 47,
   "id": "5876467e",
   "metadata": {},
   "outputs": [
    {
     "data": {
      "text/html": [
       "<div>\n",
       "<style scoped>\n",
       "    .dataframe tbody tr th:only-of-type {\n",
       "        vertical-align: middle;\n",
       "    }\n",
       "\n",
       "    .dataframe tbody tr th {\n",
       "        vertical-align: top;\n",
       "    }\n",
       "\n",
       "    .dataframe thead th {\n",
       "        text-align: right;\n",
       "    }\n",
       "</style>\n",
       "<table border=\"1\" class=\"dataframe\">\n",
       "  <thead>\n",
       "    <tr style=\"text-align: right;\">\n",
       "      <th></th>\n",
       "      <th>mean radius</th>\n",
       "      <th>mean texture</th>\n",
       "      <th>mean perimeter</th>\n",
       "      <th>mean area</th>\n",
       "      <th>mean smoothness</th>\n",
       "      <th>mean compactness</th>\n",
       "      <th>mean concavity</th>\n",
       "      <th>mean concave points</th>\n",
       "      <th>mean symmetry</th>\n",
       "      <th>mean fractal dimension</th>\n",
       "      <th>...</th>\n",
       "      <th>worst radius</th>\n",
       "      <th>worst texture</th>\n",
       "      <th>worst perimeter</th>\n",
       "      <th>worst area</th>\n",
       "      <th>worst smoothness</th>\n",
       "      <th>worst compactness</th>\n",
       "      <th>worst concavity</th>\n",
       "      <th>worst concave points</th>\n",
       "      <th>worst symmetry</th>\n",
       "      <th>worst fractal dimension</th>\n",
       "    </tr>\n",
       "  </thead>\n",
       "  <tbody>\n",
       "    <tr>\n",
       "      <th>0</th>\n",
       "      <td>17.99</td>\n",
       "      <td>10.38</td>\n",
       "      <td>122.80</td>\n",
       "      <td>1001.0</td>\n",
       "      <td>0.11840</td>\n",
       "      <td>0.27760</td>\n",
       "      <td>0.30010</td>\n",
       "      <td>0.14710</td>\n",
       "      <td>0.2419</td>\n",
       "      <td>0.07871</td>\n",
       "      <td>...</td>\n",
       "      <td>25.380</td>\n",
       "      <td>17.33</td>\n",
       "      <td>184.60</td>\n",
       "      <td>2019.0</td>\n",
       "      <td>0.16220</td>\n",
       "      <td>0.66560</td>\n",
       "      <td>0.7119</td>\n",
       "      <td>0.2654</td>\n",
       "      <td>0.4601</td>\n",
       "      <td>0.11890</td>\n",
       "    </tr>\n",
       "    <tr>\n",
       "      <th>1</th>\n",
       "      <td>20.57</td>\n",
       "      <td>17.77</td>\n",
       "      <td>132.90</td>\n",
       "      <td>1326.0</td>\n",
       "      <td>0.08474</td>\n",
       "      <td>0.07864</td>\n",
       "      <td>0.08690</td>\n",
       "      <td>0.07017</td>\n",
       "      <td>0.1812</td>\n",
       "      <td>0.05667</td>\n",
       "      <td>...</td>\n",
       "      <td>24.990</td>\n",
       "      <td>23.41</td>\n",
       "      <td>158.80</td>\n",
       "      <td>1956.0</td>\n",
       "      <td>0.12380</td>\n",
       "      <td>0.18660</td>\n",
       "      <td>0.2416</td>\n",
       "      <td>0.1860</td>\n",
       "      <td>0.2750</td>\n",
       "      <td>0.08902</td>\n",
       "    </tr>\n",
       "    <tr>\n",
       "      <th>2</th>\n",
       "      <td>19.69</td>\n",
       "      <td>21.25</td>\n",
       "      <td>130.00</td>\n",
       "      <td>1203.0</td>\n",
       "      <td>0.10960</td>\n",
       "      <td>0.15990</td>\n",
       "      <td>0.19740</td>\n",
       "      <td>0.12790</td>\n",
       "      <td>0.2069</td>\n",
       "      <td>0.05999</td>\n",
       "      <td>...</td>\n",
       "      <td>23.570</td>\n",
       "      <td>25.53</td>\n",
       "      <td>152.50</td>\n",
       "      <td>1709.0</td>\n",
       "      <td>0.14440</td>\n",
       "      <td>0.42450</td>\n",
       "      <td>0.4504</td>\n",
       "      <td>0.2430</td>\n",
       "      <td>0.3613</td>\n",
       "      <td>0.08758</td>\n",
       "    </tr>\n",
       "    <tr>\n",
       "      <th>3</th>\n",
       "      <td>11.42</td>\n",
       "      <td>20.38</td>\n",
       "      <td>77.58</td>\n",
       "      <td>386.1</td>\n",
       "      <td>0.14250</td>\n",
       "      <td>0.28390</td>\n",
       "      <td>0.24140</td>\n",
       "      <td>0.10520</td>\n",
       "      <td>0.2597</td>\n",
       "      <td>0.09744</td>\n",
       "      <td>...</td>\n",
       "      <td>14.910</td>\n",
       "      <td>26.50</td>\n",
       "      <td>98.87</td>\n",
       "      <td>567.7</td>\n",
       "      <td>0.20980</td>\n",
       "      <td>0.86630</td>\n",
       "      <td>0.6869</td>\n",
       "      <td>0.2575</td>\n",
       "      <td>0.6638</td>\n",
       "      <td>0.17300</td>\n",
       "    </tr>\n",
       "    <tr>\n",
       "      <th>4</th>\n",
       "      <td>20.29</td>\n",
       "      <td>14.34</td>\n",
       "      <td>135.10</td>\n",
       "      <td>1297.0</td>\n",
       "      <td>0.10030</td>\n",
       "      <td>0.13280</td>\n",
       "      <td>0.19800</td>\n",
       "      <td>0.10430</td>\n",
       "      <td>0.1809</td>\n",
       "      <td>0.05883</td>\n",
       "      <td>...</td>\n",
       "      <td>22.540</td>\n",
       "      <td>16.67</td>\n",
       "      <td>152.20</td>\n",
       "      <td>1575.0</td>\n",
       "      <td>0.13740</td>\n",
       "      <td>0.20500</td>\n",
       "      <td>0.4000</td>\n",
       "      <td>0.1625</td>\n",
       "      <td>0.2364</td>\n",
       "      <td>0.07678</td>\n",
       "    </tr>\n",
       "    <tr>\n",
       "      <th>...</th>\n",
       "      <td>...</td>\n",
       "      <td>...</td>\n",
       "      <td>...</td>\n",
       "      <td>...</td>\n",
       "      <td>...</td>\n",
       "      <td>...</td>\n",
       "      <td>...</td>\n",
       "      <td>...</td>\n",
       "      <td>...</td>\n",
       "      <td>...</td>\n",
       "      <td>...</td>\n",
       "      <td>...</td>\n",
       "      <td>...</td>\n",
       "      <td>...</td>\n",
       "      <td>...</td>\n",
       "      <td>...</td>\n",
       "      <td>...</td>\n",
       "      <td>...</td>\n",
       "      <td>...</td>\n",
       "      <td>...</td>\n",
       "      <td>...</td>\n",
       "    </tr>\n",
       "    <tr>\n",
       "      <th>564</th>\n",
       "      <td>21.56</td>\n",
       "      <td>22.39</td>\n",
       "      <td>142.00</td>\n",
       "      <td>1479.0</td>\n",
       "      <td>0.11100</td>\n",
       "      <td>0.11590</td>\n",
       "      <td>0.24390</td>\n",
       "      <td>0.13890</td>\n",
       "      <td>0.1726</td>\n",
       "      <td>0.05623</td>\n",
       "      <td>...</td>\n",
       "      <td>25.450</td>\n",
       "      <td>26.40</td>\n",
       "      <td>166.10</td>\n",
       "      <td>2027.0</td>\n",
       "      <td>0.14100</td>\n",
       "      <td>0.21130</td>\n",
       "      <td>0.4107</td>\n",
       "      <td>0.2216</td>\n",
       "      <td>0.2060</td>\n",
       "      <td>0.07115</td>\n",
       "    </tr>\n",
       "    <tr>\n",
       "      <th>565</th>\n",
       "      <td>20.13</td>\n",
       "      <td>28.25</td>\n",
       "      <td>131.20</td>\n",
       "      <td>1261.0</td>\n",
       "      <td>0.09780</td>\n",
       "      <td>0.10340</td>\n",
       "      <td>0.14400</td>\n",
       "      <td>0.09791</td>\n",
       "      <td>0.1752</td>\n",
       "      <td>0.05533</td>\n",
       "      <td>...</td>\n",
       "      <td>23.690</td>\n",
       "      <td>38.25</td>\n",
       "      <td>155.00</td>\n",
       "      <td>1731.0</td>\n",
       "      <td>0.11660</td>\n",
       "      <td>0.19220</td>\n",
       "      <td>0.3215</td>\n",
       "      <td>0.1628</td>\n",
       "      <td>0.2572</td>\n",
       "      <td>0.06637</td>\n",
       "    </tr>\n",
       "    <tr>\n",
       "      <th>566</th>\n",
       "      <td>16.60</td>\n",
       "      <td>28.08</td>\n",
       "      <td>108.30</td>\n",
       "      <td>858.1</td>\n",
       "      <td>0.08455</td>\n",
       "      <td>0.10230</td>\n",
       "      <td>0.09251</td>\n",
       "      <td>0.05302</td>\n",
       "      <td>0.1590</td>\n",
       "      <td>0.05648</td>\n",
       "      <td>...</td>\n",
       "      <td>18.980</td>\n",
       "      <td>34.12</td>\n",
       "      <td>126.70</td>\n",
       "      <td>1124.0</td>\n",
       "      <td>0.11390</td>\n",
       "      <td>0.30940</td>\n",
       "      <td>0.3403</td>\n",
       "      <td>0.1418</td>\n",
       "      <td>0.2218</td>\n",
       "      <td>0.07820</td>\n",
       "    </tr>\n",
       "    <tr>\n",
       "      <th>567</th>\n",
       "      <td>20.60</td>\n",
       "      <td>29.33</td>\n",
       "      <td>140.10</td>\n",
       "      <td>1265.0</td>\n",
       "      <td>0.11780</td>\n",
       "      <td>0.27700</td>\n",
       "      <td>0.35140</td>\n",
       "      <td>0.15200</td>\n",
       "      <td>0.2397</td>\n",
       "      <td>0.07016</td>\n",
       "      <td>...</td>\n",
       "      <td>25.740</td>\n",
       "      <td>39.42</td>\n",
       "      <td>184.60</td>\n",
       "      <td>1821.0</td>\n",
       "      <td>0.16500</td>\n",
       "      <td>0.86810</td>\n",
       "      <td>0.9387</td>\n",
       "      <td>0.2650</td>\n",
       "      <td>0.4087</td>\n",
       "      <td>0.12400</td>\n",
       "    </tr>\n",
       "    <tr>\n",
       "      <th>568</th>\n",
       "      <td>7.76</td>\n",
       "      <td>24.54</td>\n",
       "      <td>47.92</td>\n",
       "      <td>181.0</td>\n",
       "      <td>0.05263</td>\n",
       "      <td>0.04362</td>\n",
       "      <td>0.00000</td>\n",
       "      <td>0.00000</td>\n",
       "      <td>0.1587</td>\n",
       "      <td>0.05884</td>\n",
       "      <td>...</td>\n",
       "      <td>9.456</td>\n",
       "      <td>30.37</td>\n",
       "      <td>59.16</td>\n",
       "      <td>268.6</td>\n",
       "      <td>0.08996</td>\n",
       "      <td>0.06444</td>\n",
       "      <td>0.0000</td>\n",
       "      <td>0.0000</td>\n",
       "      <td>0.2871</td>\n",
       "      <td>0.07039</td>\n",
       "    </tr>\n",
       "  </tbody>\n",
       "</table>\n",
       "<p>569 rows × 30 columns</p>\n",
       "</div>"
      ],
      "text/plain": [
       "     mean radius  mean texture  mean perimeter  mean area  mean smoothness  \\\n",
       "0          17.99         10.38          122.80     1001.0          0.11840   \n",
       "1          20.57         17.77          132.90     1326.0          0.08474   \n",
       "2          19.69         21.25          130.00     1203.0          0.10960   \n",
       "3          11.42         20.38           77.58      386.1          0.14250   \n",
       "4          20.29         14.34          135.10     1297.0          0.10030   \n",
       "..           ...           ...             ...        ...              ...   \n",
       "564        21.56         22.39          142.00     1479.0          0.11100   \n",
       "565        20.13         28.25          131.20     1261.0          0.09780   \n",
       "566        16.60         28.08          108.30      858.1          0.08455   \n",
       "567        20.60         29.33          140.10     1265.0          0.11780   \n",
       "568         7.76         24.54           47.92      181.0          0.05263   \n",
       "\n",
       "     mean compactness  mean concavity  mean concave points  mean symmetry  \\\n",
       "0             0.27760         0.30010              0.14710         0.2419   \n",
       "1             0.07864         0.08690              0.07017         0.1812   \n",
       "2             0.15990         0.19740              0.12790         0.2069   \n",
       "3             0.28390         0.24140              0.10520         0.2597   \n",
       "4             0.13280         0.19800              0.10430         0.1809   \n",
       "..                ...             ...                  ...            ...   \n",
       "564           0.11590         0.24390              0.13890         0.1726   \n",
       "565           0.10340         0.14400              0.09791         0.1752   \n",
       "566           0.10230         0.09251              0.05302         0.1590   \n",
       "567           0.27700         0.35140              0.15200         0.2397   \n",
       "568           0.04362         0.00000              0.00000         0.1587   \n",
       "\n",
       "     mean fractal dimension  ...  worst radius  worst texture  \\\n",
       "0                   0.07871  ...        25.380          17.33   \n",
       "1                   0.05667  ...        24.990          23.41   \n",
       "2                   0.05999  ...        23.570          25.53   \n",
       "3                   0.09744  ...        14.910          26.50   \n",
       "4                   0.05883  ...        22.540          16.67   \n",
       "..                      ...  ...           ...            ...   \n",
       "564                 0.05623  ...        25.450          26.40   \n",
       "565                 0.05533  ...        23.690          38.25   \n",
       "566                 0.05648  ...        18.980          34.12   \n",
       "567                 0.07016  ...        25.740          39.42   \n",
       "568                 0.05884  ...         9.456          30.37   \n",
       "\n",
       "     worst perimeter  worst area  worst smoothness  worst compactness  \\\n",
       "0             184.60      2019.0           0.16220            0.66560   \n",
       "1             158.80      1956.0           0.12380            0.18660   \n",
       "2             152.50      1709.0           0.14440            0.42450   \n",
       "3              98.87       567.7           0.20980            0.86630   \n",
       "4             152.20      1575.0           0.13740            0.20500   \n",
       "..               ...         ...               ...                ...   \n",
       "564           166.10      2027.0           0.14100            0.21130   \n",
       "565           155.00      1731.0           0.11660            0.19220   \n",
       "566           126.70      1124.0           0.11390            0.30940   \n",
       "567           184.60      1821.0           0.16500            0.86810   \n",
       "568            59.16       268.6           0.08996            0.06444   \n",
       "\n",
       "     worst concavity  worst concave points  worst symmetry  \\\n",
       "0             0.7119                0.2654          0.4601   \n",
       "1             0.2416                0.1860          0.2750   \n",
       "2             0.4504                0.2430          0.3613   \n",
       "3             0.6869                0.2575          0.6638   \n",
       "4             0.4000                0.1625          0.2364   \n",
       "..               ...                   ...             ...   \n",
       "564           0.4107                0.2216          0.2060   \n",
       "565           0.3215                0.1628          0.2572   \n",
       "566           0.3403                0.1418          0.2218   \n",
       "567           0.9387                0.2650          0.4087   \n",
       "568           0.0000                0.0000          0.2871   \n",
       "\n",
       "     worst fractal dimension  \n",
       "0                    0.11890  \n",
       "1                    0.08902  \n",
       "2                    0.08758  \n",
       "3                    0.17300  \n",
       "4                    0.07678  \n",
       "..                       ...  \n",
       "564                  0.07115  \n",
       "565                  0.06637  \n",
       "566                  0.07820  \n",
       "567                  0.12400  \n",
       "568                  0.07039  \n",
       "\n",
       "[569 rows x 30 columns]"
      ]
     },
     "execution_count": 47,
     "metadata": {},
     "output_type": "execute_result"
    }
   ],
   "source": [
    "dataset = pd.DataFrame(data=data['data'],columns=data['feature_names'])\n",
    "X = dataset.copy()\n",
    "y = data['target']\n",
    "X_train, X_test, y_train, y_test = train_test_split(X, y, test_size=0.3)\n",
    "X"
   ]
  },
  {
   "cell_type": "code",
   "execution_count": 27,
   "id": "d4395ef1",
   "metadata": {},
   "outputs": [
    {
     "data": {
      "text/html": [
       "<style>#sk-08be791f-cdf4-43f9-becd-17134506ccee {color: black;background-color: white;}#sk-08be791f-cdf4-43f9-becd-17134506ccee pre{padding: 0;}#sk-08be791f-cdf4-43f9-becd-17134506ccee div.sk-toggleable {background-color: white;}#sk-08be791f-cdf4-43f9-becd-17134506ccee label.sk-toggleable__label {cursor: pointer;display: block;width: 100%;margin-bottom: 0;padding: 0.3em;box-sizing: border-box;text-align: center;}#sk-08be791f-cdf4-43f9-becd-17134506ccee label.sk-toggleable__label-arrow:before {content: \"▸\";float: left;margin-right: 0.25em;color: #696969;}#sk-08be791f-cdf4-43f9-becd-17134506ccee label.sk-toggleable__label-arrow:hover:before {color: black;}#sk-08be791f-cdf4-43f9-becd-17134506ccee div.sk-estimator:hover label.sk-toggleable__label-arrow:before {color: black;}#sk-08be791f-cdf4-43f9-becd-17134506ccee div.sk-toggleable__content {max-height: 0;max-width: 0;overflow: hidden;text-align: left;background-color: #f0f8ff;}#sk-08be791f-cdf4-43f9-becd-17134506ccee div.sk-toggleable__content pre {margin: 0.2em;color: black;border-radius: 0.25em;background-color: #f0f8ff;}#sk-08be791f-cdf4-43f9-becd-17134506ccee input.sk-toggleable__control:checked~div.sk-toggleable__content {max-height: 200px;max-width: 100%;overflow: auto;}#sk-08be791f-cdf4-43f9-becd-17134506ccee input.sk-toggleable__control:checked~label.sk-toggleable__label-arrow:before {content: \"▾\";}#sk-08be791f-cdf4-43f9-becd-17134506ccee div.sk-estimator input.sk-toggleable__control:checked~label.sk-toggleable__label {background-color: #d4ebff;}#sk-08be791f-cdf4-43f9-becd-17134506ccee div.sk-label input.sk-toggleable__control:checked~label.sk-toggleable__label {background-color: #d4ebff;}#sk-08be791f-cdf4-43f9-becd-17134506ccee input.sk-hidden--visually {border: 0;clip: rect(1px 1px 1px 1px);clip: rect(1px, 1px, 1px, 1px);height: 1px;margin: -1px;overflow: hidden;padding: 0;position: absolute;width: 1px;}#sk-08be791f-cdf4-43f9-becd-17134506ccee div.sk-estimator {font-family: monospace;background-color: #f0f8ff;border: 1px dotted black;border-radius: 0.25em;box-sizing: border-box;margin-bottom: 0.5em;}#sk-08be791f-cdf4-43f9-becd-17134506ccee div.sk-estimator:hover {background-color: #d4ebff;}#sk-08be791f-cdf4-43f9-becd-17134506ccee div.sk-parallel-item::after {content: \"\";width: 100%;border-bottom: 1px solid gray;flex-grow: 1;}#sk-08be791f-cdf4-43f9-becd-17134506ccee div.sk-label:hover label.sk-toggleable__label {background-color: #d4ebff;}#sk-08be791f-cdf4-43f9-becd-17134506ccee div.sk-serial::before {content: \"\";position: absolute;border-left: 1px solid gray;box-sizing: border-box;top: 2em;bottom: 0;left: 50%;}#sk-08be791f-cdf4-43f9-becd-17134506ccee div.sk-serial {display: flex;flex-direction: column;align-items: center;background-color: white;padding-right: 0.2em;padding-left: 0.2em;}#sk-08be791f-cdf4-43f9-becd-17134506ccee div.sk-item {z-index: 1;}#sk-08be791f-cdf4-43f9-becd-17134506ccee div.sk-parallel {display: flex;align-items: stretch;justify-content: center;background-color: white;}#sk-08be791f-cdf4-43f9-becd-17134506ccee div.sk-parallel::before {content: \"\";position: absolute;border-left: 1px solid gray;box-sizing: border-box;top: 2em;bottom: 0;left: 50%;}#sk-08be791f-cdf4-43f9-becd-17134506ccee div.sk-parallel-item {display: flex;flex-direction: column;position: relative;background-color: white;}#sk-08be791f-cdf4-43f9-becd-17134506ccee div.sk-parallel-item:first-child::after {align-self: flex-end;width: 50%;}#sk-08be791f-cdf4-43f9-becd-17134506ccee div.sk-parallel-item:last-child::after {align-self: flex-start;width: 50%;}#sk-08be791f-cdf4-43f9-becd-17134506ccee div.sk-parallel-item:only-child::after {width: 0;}#sk-08be791f-cdf4-43f9-becd-17134506ccee div.sk-dashed-wrapped {border: 1px dashed gray;margin: 0 0.4em 0.5em 0.4em;box-sizing: border-box;padding-bottom: 0.4em;background-color: white;position: relative;}#sk-08be791f-cdf4-43f9-becd-17134506ccee div.sk-label label {font-family: monospace;font-weight: bold;background-color: white;display: inline-block;line-height: 1.2em;}#sk-08be791f-cdf4-43f9-becd-17134506ccee div.sk-label-container {position: relative;z-index: 2;text-align: center;}#sk-08be791f-cdf4-43f9-becd-17134506ccee div.sk-container {/* jupyter's `normalize.less` sets `[hidden] { display: none; }` but bootstrap.min.css set `[hidden] { display: none !important; }` so we also need the `!important` here to be able to override the default hidden behavior on the sphinx rendered scikit-learn.org. See: https://github.com/scikit-learn/scikit-learn/issues/21755 */display: inline-block !important;position: relative;}#sk-08be791f-cdf4-43f9-becd-17134506ccee div.sk-text-repr-fallback {display: none;}</style><div id=\"sk-08be791f-cdf4-43f9-becd-17134506ccee\" class=\"sk-top-container\"><div class=\"sk-text-repr-fallback\"><pre>Pipeline(steps=[(&#x27;scaling&#x27;, StandardScaler()),\n",
       "                (&#x27;Classifier&#x27;, LogisticRegression())])</pre><b>Please rerun this cell to show the HTML repr or trust the notebook.</b></div><div class=\"sk-container\" hidden><div class=\"sk-item sk-dashed-wrapped\"><div class=\"sk-label-container\"><div class=\"sk-label sk-toggleable\"><input class=\"sk-toggleable__control sk-hidden--visually\" id=\"7137ca9d-7ffd-4741-abbc-38eb99f3e388\" type=\"checkbox\" ><label for=\"7137ca9d-7ffd-4741-abbc-38eb99f3e388\" class=\"sk-toggleable__label sk-toggleable__label-arrow\">Pipeline</label><div class=\"sk-toggleable__content\"><pre>Pipeline(steps=[(&#x27;scaling&#x27;, StandardScaler()),\n",
       "                (&#x27;Classifier&#x27;, LogisticRegression())])</pre></div></div></div><div class=\"sk-serial\"><div class=\"sk-item\"><div class=\"sk-estimator sk-toggleable\"><input class=\"sk-toggleable__control sk-hidden--visually\" id=\"d9032a62-d8cb-47a0-9694-9bde8e22bc6b\" type=\"checkbox\" ><label for=\"d9032a62-d8cb-47a0-9694-9bde8e22bc6b\" class=\"sk-toggleable__label sk-toggleable__label-arrow\">StandardScaler</label><div class=\"sk-toggleable__content\"><pre>StandardScaler()</pre></div></div></div><div class=\"sk-item\"><div class=\"sk-estimator sk-toggleable\"><input class=\"sk-toggleable__control sk-hidden--visually\" id=\"518f47af-8530-46fc-8b11-081896dc245f\" type=\"checkbox\" ><label for=\"518f47af-8530-46fc-8b11-081896dc245f\" class=\"sk-toggleable__label sk-toggleable__label-arrow\">LogisticRegression</label><div class=\"sk-toggleable__content\"><pre>LogisticRegression()</pre></div></div></div></div></div></div></div>"
      ],
      "text/plain": [
       "Pipeline(steps=[('scaling', StandardScaler()),\n",
       "                ('Classifier', LogisticRegression())])"
      ]
     },
     "execution_count": 27,
     "metadata": {},
     "output_type": "execute_result"
    }
   ],
   "source": [
    "pipe.fit(X_train, y_train)"
   ]
  },
  {
   "cell_type": "code",
   "execution_count": 32,
   "id": "b74b5ac1",
   "metadata": {},
   "outputs": [],
   "source": [
    "y_pred = pipe.predict(X_test)"
   ]
  },
  {
   "cell_type": "code",
   "execution_count": 33,
   "id": "eef49606",
   "metadata": {},
   "outputs": [],
   "source": [
    "from sklearn.metrics import confusion_matrix\n"
   ]
  },
  {
   "cell_type": "code",
   "execution_count": 35,
   "id": "1abc6cfa",
   "metadata": {},
   "outputs": [
    {
     "data": {
      "text/plain": [
       "array([[ 57,   2],\n",
       "       [  1, 111]], dtype=int64)"
      ]
     },
     "execution_count": 35,
     "metadata": {},
     "output_type": "execute_result"
    }
   ],
   "source": [
    "confusion_matrix(y_pred, y_test)"
   ]
  },
  {
   "cell_type": "markdown",
   "id": "dfb5f858",
   "metadata": {},
   "source": [
    "## Example 2 [Column transformers]"
   ]
  },
  {
   "cell_type": "markdown",
   "id": "66424f01",
   "metadata": {},
   "source": [
    "#### a) Numerical pipeline"
   ]
  },
  {
   "cell_type": "code",
   "execution_count": 43,
   "id": "13e3852c",
   "metadata": {},
   "outputs": [
    {
     "data": {
      "text/html": [
       "<style>#sk-c3671ea6-e0d8-4702-80a4-100ffc36c8d0 {color: black;background-color: white;}#sk-c3671ea6-e0d8-4702-80a4-100ffc36c8d0 pre{padding: 0;}#sk-c3671ea6-e0d8-4702-80a4-100ffc36c8d0 div.sk-toggleable {background-color: white;}#sk-c3671ea6-e0d8-4702-80a4-100ffc36c8d0 label.sk-toggleable__label {cursor: pointer;display: block;width: 100%;margin-bottom: 0;padding: 0.3em;box-sizing: border-box;text-align: center;}#sk-c3671ea6-e0d8-4702-80a4-100ffc36c8d0 label.sk-toggleable__label-arrow:before {content: \"▸\";float: left;margin-right: 0.25em;color: #696969;}#sk-c3671ea6-e0d8-4702-80a4-100ffc36c8d0 label.sk-toggleable__label-arrow:hover:before {color: black;}#sk-c3671ea6-e0d8-4702-80a4-100ffc36c8d0 div.sk-estimator:hover label.sk-toggleable__label-arrow:before {color: black;}#sk-c3671ea6-e0d8-4702-80a4-100ffc36c8d0 div.sk-toggleable__content {max-height: 0;max-width: 0;overflow: hidden;text-align: left;background-color: #f0f8ff;}#sk-c3671ea6-e0d8-4702-80a4-100ffc36c8d0 div.sk-toggleable__content pre {margin: 0.2em;color: black;border-radius: 0.25em;background-color: #f0f8ff;}#sk-c3671ea6-e0d8-4702-80a4-100ffc36c8d0 input.sk-toggleable__control:checked~div.sk-toggleable__content {max-height: 200px;max-width: 100%;overflow: auto;}#sk-c3671ea6-e0d8-4702-80a4-100ffc36c8d0 input.sk-toggleable__control:checked~label.sk-toggleable__label-arrow:before {content: \"▾\";}#sk-c3671ea6-e0d8-4702-80a4-100ffc36c8d0 div.sk-estimator input.sk-toggleable__control:checked~label.sk-toggleable__label {background-color: #d4ebff;}#sk-c3671ea6-e0d8-4702-80a4-100ffc36c8d0 div.sk-label input.sk-toggleable__control:checked~label.sk-toggleable__label {background-color: #d4ebff;}#sk-c3671ea6-e0d8-4702-80a4-100ffc36c8d0 input.sk-hidden--visually {border: 0;clip: rect(1px 1px 1px 1px);clip: rect(1px, 1px, 1px, 1px);height: 1px;margin: -1px;overflow: hidden;padding: 0;position: absolute;width: 1px;}#sk-c3671ea6-e0d8-4702-80a4-100ffc36c8d0 div.sk-estimator {font-family: monospace;background-color: #f0f8ff;border: 1px dotted black;border-radius: 0.25em;box-sizing: border-box;margin-bottom: 0.5em;}#sk-c3671ea6-e0d8-4702-80a4-100ffc36c8d0 div.sk-estimator:hover {background-color: #d4ebff;}#sk-c3671ea6-e0d8-4702-80a4-100ffc36c8d0 div.sk-parallel-item::after {content: \"\";width: 100%;border-bottom: 1px solid gray;flex-grow: 1;}#sk-c3671ea6-e0d8-4702-80a4-100ffc36c8d0 div.sk-label:hover label.sk-toggleable__label {background-color: #d4ebff;}#sk-c3671ea6-e0d8-4702-80a4-100ffc36c8d0 div.sk-serial::before {content: \"\";position: absolute;border-left: 1px solid gray;box-sizing: border-box;top: 2em;bottom: 0;left: 50%;}#sk-c3671ea6-e0d8-4702-80a4-100ffc36c8d0 div.sk-serial {display: flex;flex-direction: column;align-items: center;background-color: white;padding-right: 0.2em;padding-left: 0.2em;}#sk-c3671ea6-e0d8-4702-80a4-100ffc36c8d0 div.sk-item {z-index: 1;}#sk-c3671ea6-e0d8-4702-80a4-100ffc36c8d0 div.sk-parallel {display: flex;align-items: stretch;justify-content: center;background-color: white;}#sk-c3671ea6-e0d8-4702-80a4-100ffc36c8d0 div.sk-parallel::before {content: \"\";position: absolute;border-left: 1px solid gray;box-sizing: border-box;top: 2em;bottom: 0;left: 50%;}#sk-c3671ea6-e0d8-4702-80a4-100ffc36c8d0 div.sk-parallel-item {display: flex;flex-direction: column;position: relative;background-color: white;}#sk-c3671ea6-e0d8-4702-80a4-100ffc36c8d0 div.sk-parallel-item:first-child::after {align-self: flex-end;width: 50%;}#sk-c3671ea6-e0d8-4702-80a4-100ffc36c8d0 div.sk-parallel-item:last-child::after {align-self: flex-start;width: 50%;}#sk-c3671ea6-e0d8-4702-80a4-100ffc36c8d0 div.sk-parallel-item:only-child::after {width: 0;}#sk-c3671ea6-e0d8-4702-80a4-100ffc36c8d0 div.sk-dashed-wrapped {border: 1px dashed gray;margin: 0 0.4em 0.5em 0.4em;box-sizing: border-box;padding-bottom: 0.4em;background-color: white;position: relative;}#sk-c3671ea6-e0d8-4702-80a4-100ffc36c8d0 div.sk-label label {font-family: monospace;font-weight: bold;background-color: white;display: inline-block;line-height: 1.2em;}#sk-c3671ea6-e0d8-4702-80a4-100ffc36c8d0 div.sk-label-container {position: relative;z-index: 2;text-align: center;}#sk-c3671ea6-e0d8-4702-80a4-100ffc36c8d0 div.sk-container {/* jupyter's `normalize.less` sets `[hidden] { display: none; }` but bootstrap.min.css set `[hidden] { display: none !important; }` so we also need the `!important` here to be able to override the default hidden behavior on the sphinx rendered scikit-learn.org. See: https://github.com/scikit-learn/scikit-learn/issues/21755 */display: inline-block !important;position: relative;}#sk-c3671ea6-e0d8-4702-80a4-100ffc36c8d0 div.sk-text-repr-fallback {display: none;}</style><div id=\"sk-c3671ea6-e0d8-4702-80a4-100ffc36c8d0\" class=\"sk-top-container\"><div class=\"sk-text-repr-fallback\"><pre>Pipeline(steps=[(&#x27;impute_mean&#x27;, SimpleImputer()), (&#x27;scaler&#x27;, StandardScaler())])</pre><b>Please rerun this cell to show the HTML repr or trust the notebook.</b></div><div class=\"sk-container\" hidden><div class=\"sk-item sk-dashed-wrapped\"><div class=\"sk-label-container\"><div class=\"sk-label sk-toggleable\"><input class=\"sk-toggleable__control sk-hidden--visually\" id=\"8e4cd2e6-b4ae-4704-bdad-d133ca1ec86c\" type=\"checkbox\" ><label for=\"8e4cd2e6-b4ae-4704-bdad-d133ca1ec86c\" class=\"sk-toggleable__label sk-toggleable__label-arrow\">Pipeline</label><div class=\"sk-toggleable__content\"><pre>Pipeline(steps=[(&#x27;impute_mean&#x27;, SimpleImputer()), (&#x27;scaler&#x27;, StandardScaler())])</pre></div></div></div><div class=\"sk-serial\"><div class=\"sk-item\"><div class=\"sk-estimator sk-toggleable\"><input class=\"sk-toggleable__control sk-hidden--visually\" id=\"a5907b8c-b9a5-4cdc-b8e3-3742a8178528\" type=\"checkbox\" ><label for=\"a5907b8c-b9a5-4cdc-b8e3-3742a8178528\" class=\"sk-toggleable__label sk-toggleable__label-arrow\">SimpleImputer</label><div class=\"sk-toggleable__content\"><pre>SimpleImputer()</pre></div></div></div><div class=\"sk-item\"><div class=\"sk-estimator sk-toggleable\"><input class=\"sk-toggleable__control sk-hidden--visually\" id=\"441bbc9b-2dba-478c-a2ff-2ec5b3b8e591\" type=\"checkbox\" ><label for=\"441bbc9b-2dba-478c-a2ff-2ec5b3b8e591\" class=\"sk-toggleable__label sk-toggleable__label-arrow\">StandardScaler</label><div class=\"sk-toggleable__content\"><pre>StandardScaler()</pre></div></div></div></div></div></div></div>"
      ],
      "text/plain": [
       "Pipeline(steps=[('impute_mean', SimpleImputer()), ('scaler', StandardScaler())])"
      ]
     },
     "execution_count": 43,
     "metadata": {},
     "output_type": "execute_result"
    }
   ],
   "source": [
    "numeric_processor = Pipeline(steps=[(\"impute_mean\",SimpleImputer(missing_values=np.nan, strategy=\"mean\")),\n",
    "                                    (\"scaler\", StandardScaler())])\n",
    "numeric_processor"
   ]
  },
  {
   "cell_type": "markdown",
   "id": "ec9e7e9d",
   "metadata": {},
   "source": [
    "#### b) Categorical pipeline"
   ]
  },
  {
   "cell_type": "code",
   "execution_count": 53,
   "id": "70ef113d",
   "metadata": {},
   "outputs": [
    {
     "data": {
      "text/html": [
       "<style>#sk-df94b509-e189-4343-9c6f-58dca1dcd471 {color: black;background-color: white;}#sk-df94b509-e189-4343-9c6f-58dca1dcd471 pre{padding: 0;}#sk-df94b509-e189-4343-9c6f-58dca1dcd471 div.sk-toggleable {background-color: white;}#sk-df94b509-e189-4343-9c6f-58dca1dcd471 label.sk-toggleable__label {cursor: pointer;display: block;width: 100%;margin-bottom: 0;padding: 0.3em;box-sizing: border-box;text-align: center;}#sk-df94b509-e189-4343-9c6f-58dca1dcd471 label.sk-toggleable__label-arrow:before {content: \"▸\";float: left;margin-right: 0.25em;color: #696969;}#sk-df94b509-e189-4343-9c6f-58dca1dcd471 label.sk-toggleable__label-arrow:hover:before {color: black;}#sk-df94b509-e189-4343-9c6f-58dca1dcd471 div.sk-estimator:hover label.sk-toggleable__label-arrow:before {color: black;}#sk-df94b509-e189-4343-9c6f-58dca1dcd471 div.sk-toggleable__content {max-height: 0;max-width: 0;overflow: hidden;text-align: left;background-color: #f0f8ff;}#sk-df94b509-e189-4343-9c6f-58dca1dcd471 div.sk-toggleable__content pre {margin: 0.2em;color: black;border-radius: 0.25em;background-color: #f0f8ff;}#sk-df94b509-e189-4343-9c6f-58dca1dcd471 input.sk-toggleable__control:checked~div.sk-toggleable__content {max-height: 200px;max-width: 100%;overflow: auto;}#sk-df94b509-e189-4343-9c6f-58dca1dcd471 input.sk-toggleable__control:checked~label.sk-toggleable__label-arrow:before {content: \"▾\";}#sk-df94b509-e189-4343-9c6f-58dca1dcd471 div.sk-estimator input.sk-toggleable__control:checked~label.sk-toggleable__label {background-color: #d4ebff;}#sk-df94b509-e189-4343-9c6f-58dca1dcd471 div.sk-label input.sk-toggleable__control:checked~label.sk-toggleable__label {background-color: #d4ebff;}#sk-df94b509-e189-4343-9c6f-58dca1dcd471 input.sk-hidden--visually {border: 0;clip: rect(1px 1px 1px 1px);clip: rect(1px, 1px, 1px, 1px);height: 1px;margin: -1px;overflow: hidden;padding: 0;position: absolute;width: 1px;}#sk-df94b509-e189-4343-9c6f-58dca1dcd471 div.sk-estimator {font-family: monospace;background-color: #f0f8ff;border: 1px dotted black;border-radius: 0.25em;box-sizing: border-box;margin-bottom: 0.5em;}#sk-df94b509-e189-4343-9c6f-58dca1dcd471 div.sk-estimator:hover {background-color: #d4ebff;}#sk-df94b509-e189-4343-9c6f-58dca1dcd471 div.sk-parallel-item::after {content: \"\";width: 100%;border-bottom: 1px solid gray;flex-grow: 1;}#sk-df94b509-e189-4343-9c6f-58dca1dcd471 div.sk-label:hover label.sk-toggleable__label {background-color: #d4ebff;}#sk-df94b509-e189-4343-9c6f-58dca1dcd471 div.sk-serial::before {content: \"\";position: absolute;border-left: 1px solid gray;box-sizing: border-box;top: 2em;bottom: 0;left: 50%;}#sk-df94b509-e189-4343-9c6f-58dca1dcd471 div.sk-serial {display: flex;flex-direction: column;align-items: center;background-color: white;padding-right: 0.2em;padding-left: 0.2em;}#sk-df94b509-e189-4343-9c6f-58dca1dcd471 div.sk-item {z-index: 1;}#sk-df94b509-e189-4343-9c6f-58dca1dcd471 div.sk-parallel {display: flex;align-items: stretch;justify-content: center;background-color: white;}#sk-df94b509-e189-4343-9c6f-58dca1dcd471 div.sk-parallel::before {content: \"\";position: absolute;border-left: 1px solid gray;box-sizing: border-box;top: 2em;bottom: 0;left: 50%;}#sk-df94b509-e189-4343-9c6f-58dca1dcd471 div.sk-parallel-item {display: flex;flex-direction: column;position: relative;background-color: white;}#sk-df94b509-e189-4343-9c6f-58dca1dcd471 div.sk-parallel-item:first-child::after {align-self: flex-end;width: 50%;}#sk-df94b509-e189-4343-9c6f-58dca1dcd471 div.sk-parallel-item:last-child::after {align-self: flex-start;width: 50%;}#sk-df94b509-e189-4343-9c6f-58dca1dcd471 div.sk-parallel-item:only-child::after {width: 0;}#sk-df94b509-e189-4343-9c6f-58dca1dcd471 div.sk-dashed-wrapped {border: 1px dashed gray;margin: 0 0.4em 0.5em 0.4em;box-sizing: border-box;padding-bottom: 0.4em;background-color: white;position: relative;}#sk-df94b509-e189-4343-9c6f-58dca1dcd471 div.sk-label label {font-family: monospace;font-weight: bold;background-color: white;display: inline-block;line-height: 1.2em;}#sk-df94b509-e189-4343-9c6f-58dca1dcd471 div.sk-label-container {position: relative;z-index: 2;text-align: center;}#sk-df94b509-e189-4343-9c6f-58dca1dcd471 div.sk-container {/* jupyter's `normalize.less` sets `[hidden] { display: none; }` but bootstrap.min.css set `[hidden] { display: none !important; }` so we also need the `!important` here to be able to override the default hidden behavior on the sphinx rendered scikit-learn.org. See: https://github.com/scikit-learn/scikit-learn/issues/21755 */display: inline-block !important;position: relative;}#sk-df94b509-e189-4343-9c6f-58dca1dcd471 div.sk-text-repr-fallback {display: none;}</style><div id=\"sk-df94b509-e189-4343-9c6f-58dca1dcd471\" class=\"sk-top-container\"><div class=\"sk-text-repr-fallback\"><pre>Pipeline(steps=[(&#x27;impute_constant&#x27;,\n",
       "                 SimpleImputer(fill_value=&#x27;missing&#x27;, strategy=&#x27;constant&#x27;)),\n",
       "                (&#x27;oneHot&#x27;, OneHotEncoder(handle_unknown=&#x27;ignore&#x27;))])</pre><b>Please rerun this cell to show the HTML repr or trust the notebook.</b></div><div class=\"sk-container\" hidden><div class=\"sk-item sk-dashed-wrapped\"><div class=\"sk-label-container\"><div class=\"sk-label sk-toggleable\"><input class=\"sk-toggleable__control sk-hidden--visually\" id=\"cea8e674-74b3-4f5c-85e2-0d37531a1cc3\" type=\"checkbox\" ><label for=\"cea8e674-74b3-4f5c-85e2-0d37531a1cc3\" class=\"sk-toggleable__label sk-toggleable__label-arrow\">Pipeline</label><div class=\"sk-toggleable__content\"><pre>Pipeline(steps=[(&#x27;impute_constant&#x27;,\n",
       "                 SimpleImputer(fill_value=&#x27;missing&#x27;, strategy=&#x27;constant&#x27;)),\n",
       "                (&#x27;oneHot&#x27;, OneHotEncoder(handle_unknown=&#x27;ignore&#x27;))])</pre></div></div></div><div class=\"sk-serial\"><div class=\"sk-item\"><div class=\"sk-estimator sk-toggleable\"><input class=\"sk-toggleable__control sk-hidden--visually\" id=\"865a5570-c58d-45c8-a1e6-b46efac2a97e\" type=\"checkbox\" ><label for=\"865a5570-c58d-45c8-a1e6-b46efac2a97e\" class=\"sk-toggleable__label sk-toggleable__label-arrow\">SimpleImputer</label><div class=\"sk-toggleable__content\"><pre>SimpleImputer(fill_value=&#x27;missing&#x27;, strategy=&#x27;constant&#x27;)</pre></div></div></div><div class=\"sk-item\"><div class=\"sk-estimator sk-toggleable\"><input class=\"sk-toggleable__control sk-hidden--visually\" id=\"1724f558-e150-44d4-b922-da73a5a6131a\" type=\"checkbox\" ><label for=\"1724f558-e150-44d4-b922-da73a5a6131a\" class=\"sk-toggleable__label sk-toggleable__label-arrow\">OneHotEncoder</label><div class=\"sk-toggleable__content\"><pre>OneHotEncoder(handle_unknown=&#x27;ignore&#x27;)</pre></div></div></div></div></div></div></div>"
      ],
      "text/plain": [
       "Pipeline(steps=[('impute_constant',\n",
       "                 SimpleImputer(fill_value='missing', strategy='constant')),\n",
       "                ('oneHot', OneHotEncoder(handle_unknown='ignore'))])"
      ]
     },
     "execution_count": 53,
     "metadata": {},
     "output_type": "execute_result"
    }
   ],
   "source": [
    "categorical_processor = Pipeline(steps=[(\"impute_constant\",SimpleImputer(fill_value=\"missing\", strategy=\"constant\")),\n",
    "                                       (\"oneHot\",OneHotEncoder(handle_unknown=\"ignore\"))])\n",
    "categorical_processor"
   ]
  },
  {
   "cell_type": "markdown",
   "id": "77a3744b",
   "metadata": {},
   "source": [
    "#### Combine processors"
   ]
  },
  {
   "cell_type": "code",
   "execution_count": 54,
   "id": "7cc20ca8",
   "metadata": {},
   "outputs": [],
   "source": [
    "from sklearn.compose import ColumnTransformer"
   ]
  },
  {
   "cell_type": "code",
   "execution_count": 55,
   "id": "4ac9d9dc",
   "metadata": {},
   "outputs": [],
   "source": [
    "preprocessor = ColumnTransformer([(\"categorical\",categorical_processor,[\"\"]),(\"numerical\",numeric_processor,[\"mean_radius\",\"mean_texture\"])])"
   ]
  },
  {
   "cell_type": "code",
   "execution_count": 52,
   "id": "a28332d1",
   "metadata": {},
   "outputs": [
    {
     "data": {
      "text/html": [
       "<style>#sk-28a0dae2-e8ba-4b49-9010-b27674623f20 {color: black;background-color: white;}#sk-28a0dae2-e8ba-4b49-9010-b27674623f20 pre{padding: 0;}#sk-28a0dae2-e8ba-4b49-9010-b27674623f20 div.sk-toggleable {background-color: white;}#sk-28a0dae2-e8ba-4b49-9010-b27674623f20 label.sk-toggleable__label {cursor: pointer;display: block;width: 100%;margin-bottom: 0;padding: 0.3em;box-sizing: border-box;text-align: center;}#sk-28a0dae2-e8ba-4b49-9010-b27674623f20 label.sk-toggleable__label-arrow:before {content: \"▸\";float: left;margin-right: 0.25em;color: #696969;}#sk-28a0dae2-e8ba-4b49-9010-b27674623f20 label.sk-toggleable__label-arrow:hover:before {color: black;}#sk-28a0dae2-e8ba-4b49-9010-b27674623f20 div.sk-estimator:hover label.sk-toggleable__label-arrow:before {color: black;}#sk-28a0dae2-e8ba-4b49-9010-b27674623f20 div.sk-toggleable__content {max-height: 0;max-width: 0;overflow: hidden;text-align: left;background-color: #f0f8ff;}#sk-28a0dae2-e8ba-4b49-9010-b27674623f20 div.sk-toggleable__content pre {margin: 0.2em;color: black;border-radius: 0.25em;background-color: #f0f8ff;}#sk-28a0dae2-e8ba-4b49-9010-b27674623f20 input.sk-toggleable__control:checked~div.sk-toggleable__content {max-height: 200px;max-width: 100%;overflow: auto;}#sk-28a0dae2-e8ba-4b49-9010-b27674623f20 input.sk-toggleable__control:checked~label.sk-toggleable__label-arrow:before {content: \"▾\";}#sk-28a0dae2-e8ba-4b49-9010-b27674623f20 div.sk-estimator input.sk-toggleable__control:checked~label.sk-toggleable__label {background-color: #d4ebff;}#sk-28a0dae2-e8ba-4b49-9010-b27674623f20 div.sk-label input.sk-toggleable__control:checked~label.sk-toggleable__label {background-color: #d4ebff;}#sk-28a0dae2-e8ba-4b49-9010-b27674623f20 input.sk-hidden--visually {border: 0;clip: rect(1px 1px 1px 1px);clip: rect(1px, 1px, 1px, 1px);height: 1px;margin: -1px;overflow: hidden;padding: 0;position: absolute;width: 1px;}#sk-28a0dae2-e8ba-4b49-9010-b27674623f20 div.sk-estimator {font-family: monospace;background-color: #f0f8ff;border: 1px dotted black;border-radius: 0.25em;box-sizing: border-box;margin-bottom: 0.5em;}#sk-28a0dae2-e8ba-4b49-9010-b27674623f20 div.sk-estimator:hover {background-color: #d4ebff;}#sk-28a0dae2-e8ba-4b49-9010-b27674623f20 div.sk-parallel-item::after {content: \"\";width: 100%;border-bottom: 1px solid gray;flex-grow: 1;}#sk-28a0dae2-e8ba-4b49-9010-b27674623f20 div.sk-label:hover label.sk-toggleable__label {background-color: #d4ebff;}#sk-28a0dae2-e8ba-4b49-9010-b27674623f20 div.sk-serial::before {content: \"\";position: absolute;border-left: 1px solid gray;box-sizing: border-box;top: 2em;bottom: 0;left: 50%;}#sk-28a0dae2-e8ba-4b49-9010-b27674623f20 div.sk-serial {display: flex;flex-direction: column;align-items: center;background-color: white;padding-right: 0.2em;padding-left: 0.2em;}#sk-28a0dae2-e8ba-4b49-9010-b27674623f20 div.sk-item {z-index: 1;}#sk-28a0dae2-e8ba-4b49-9010-b27674623f20 div.sk-parallel {display: flex;align-items: stretch;justify-content: center;background-color: white;}#sk-28a0dae2-e8ba-4b49-9010-b27674623f20 div.sk-parallel::before {content: \"\";position: absolute;border-left: 1px solid gray;box-sizing: border-box;top: 2em;bottom: 0;left: 50%;}#sk-28a0dae2-e8ba-4b49-9010-b27674623f20 div.sk-parallel-item {display: flex;flex-direction: column;position: relative;background-color: white;}#sk-28a0dae2-e8ba-4b49-9010-b27674623f20 div.sk-parallel-item:first-child::after {align-self: flex-end;width: 50%;}#sk-28a0dae2-e8ba-4b49-9010-b27674623f20 div.sk-parallel-item:last-child::after {align-self: flex-start;width: 50%;}#sk-28a0dae2-e8ba-4b49-9010-b27674623f20 div.sk-parallel-item:only-child::after {width: 0;}#sk-28a0dae2-e8ba-4b49-9010-b27674623f20 div.sk-dashed-wrapped {border: 1px dashed gray;margin: 0 0.4em 0.5em 0.4em;box-sizing: border-box;padding-bottom: 0.4em;background-color: white;position: relative;}#sk-28a0dae2-e8ba-4b49-9010-b27674623f20 div.sk-label label {font-family: monospace;font-weight: bold;background-color: white;display: inline-block;line-height: 1.2em;}#sk-28a0dae2-e8ba-4b49-9010-b27674623f20 div.sk-label-container {position: relative;z-index: 2;text-align: center;}#sk-28a0dae2-e8ba-4b49-9010-b27674623f20 div.sk-container {/* jupyter's `normalize.less` sets `[hidden] { display: none; }` but bootstrap.min.css set `[hidden] { display: none !important; }` so we also need the `!important` here to be able to override the default hidden behavior on the sphinx rendered scikit-learn.org. See: https://github.com/scikit-learn/scikit-learn/issues/21755 */display: inline-block !important;position: relative;}#sk-28a0dae2-e8ba-4b49-9010-b27674623f20 div.sk-text-repr-fallback {display: none;}</style><div id=\"sk-28a0dae2-e8ba-4b49-9010-b27674623f20\" class=\"sk-top-container\"><div class=\"sk-text-repr-fallback\"><pre>ColumnTransformer(transformers=[(&#x27;categorical&#x27;,\n",
       "                                 Pipeline(steps=[(&#x27;impute_constant&#x27;,\n",
       "                                                  SimpleImputer(fill_value=&#x27;missing&#x27;,\n",
       "                                                                strategy=&#x27;constant&#x27;)),\n",
       "                                                 (&#x27;oneHot&#x27;, OneHotEncoder())]),\n",
       "                                 [&#x27;&#x27;]),\n",
       "                                (&#x27;numerical&#x27;,\n",
       "                                 Pipeline(steps=[(&#x27;impute_mean&#x27;,\n",
       "                                                  SimpleImputer()),\n",
       "                                                 (&#x27;scaler&#x27;, StandardScaler())]),\n",
       "                                 [&#x27;mean_radius&#x27;, &#x27;mean_texture&#x27;])])</pre><b>Please rerun this cell to show the HTML repr or trust the notebook.</b></div><div class=\"sk-container\" hidden><div class=\"sk-item sk-dashed-wrapped\"><div class=\"sk-label-container\"><div class=\"sk-label sk-toggleable\"><input class=\"sk-toggleable__control sk-hidden--visually\" id=\"66065eb1-b6f0-4ffc-9c55-2089f18f52b9\" type=\"checkbox\" ><label for=\"66065eb1-b6f0-4ffc-9c55-2089f18f52b9\" class=\"sk-toggleable__label sk-toggleable__label-arrow\">ColumnTransformer</label><div class=\"sk-toggleable__content\"><pre>ColumnTransformer(transformers=[(&#x27;categorical&#x27;,\n",
       "                                 Pipeline(steps=[(&#x27;impute_constant&#x27;,\n",
       "                                                  SimpleImputer(fill_value=&#x27;missing&#x27;,\n",
       "                                                                strategy=&#x27;constant&#x27;)),\n",
       "                                                 (&#x27;oneHot&#x27;, OneHotEncoder())]),\n",
       "                                 [&#x27;&#x27;]),\n",
       "                                (&#x27;numerical&#x27;,\n",
       "                                 Pipeline(steps=[(&#x27;impute_mean&#x27;,\n",
       "                                                  SimpleImputer()),\n",
       "                                                 (&#x27;scaler&#x27;, StandardScaler())]),\n",
       "                                 [&#x27;mean_radius&#x27;, &#x27;mean_texture&#x27;])])</pre></div></div></div><div class=\"sk-parallel\"><div class=\"sk-parallel-item\"><div class=\"sk-item\"><div class=\"sk-label-container\"><div class=\"sk-label sk-toggleable\"><input class=\"sk-toggleable__control sk-hidden--visually\" id=\"7b9a047b-d64b-4c6b-9c78-eb23b9cf04a4\" type=\"checkbox\" ><label for=\"7b9a047b-d64b-4c6b-9c78-eb23b9cf04a4\" class=\"sk-toggleable__label sk-toggleable__label-arrow\">categorical</label><div class=\"sk-toggleable__content\"><pre>[&#x27;&#x27;]</pre></div></div></div><div class=\"sk-serial\"><div class=\"sk-item\"><div class=\"sk-serial\"><div class=\"sk-item\"><div class=\"sk-estimator sk-toggleable\"><input class=\"sk-toggleable__control sk-hidden--visually\" id=\"0956f277-9857-4df1-b43a-580ffb6b6e3e\" type=\"checkbox\" ><label for=\"0956f277-9857-4df1-b43a-580ffb6b6e3e\" class=\"sk-toggleable__label sk-toggleable__label-arrow\">SimpleImputer</label><div class=\"sk-toggleable__content\"><pre>SimpleImputer(fill_value=&#x27;missing&#x27;, strategy=&#x27;constant&#x27;)</pre></div></div></div><div class=\"sk-item\"><div class=\"sk-estimator sk-toggleable\"><input class=\"sk-toggleable__control sk-hidden--visually\" id=\"1548fae0-7931-4072-8280-16173a9bc310\" type=\"checkbox\" ><label for=\"1548fae0-7931-4072-8280-16173a9bc310\" class=\"sk-toggleable__label sk-toggleable__label-arrow\">OneHotEncoder</label><div class=\"sk-toggleable__content\"><pre>OneHotEncoder()</pre></div></div></div></div></div></div></div></div><div class=\"sk-parallel-item\"><div class=\"sk-item\"><div class=\"sk-label-container\"><div class=\"sk-label sk-toggleable\"><input class=\"sk-toggleable__control sk-hidden--visually\" id=\"2a1b5f1a-f3a5-4526-a4a6-65a01ab36911\" type=\"checkbox\" ><label for=\"2a1b5f1a-f3a5-4526-a4a6-65a01ab36911\" class=\"sk-toggleable__label sk-toggleable__label-arrow\">numerical</label><div class=\"sk-toggleable__content\"><pre>[&#x27;mean_radius&#x27;, &#x27;mean_texture&#x27;]</pre></div></div></div><div class=\"sk-serial\"><div class=\"sk-item\"><div class=\"sk-serial\"><div class=\"sk-item\"><div class=\"sk-estimator sk-toggleable\"><input class=\"sk-toggleable__control sk-hidden--visually\" id=\"314191f1-3e5d-4562-996e-b4b7261407c2\" type=\"checkbox\" ><label for=\"314191f1-3e5d-4562-996e-b4b7261407c2\" class=\"sk-toggleable__label sk-toggleable__label-arrow\">SimpleImputer</label><div class=\"sk-toggleable__content\"><pre>SimpleImputer()</pre></div></div></div><div class=\"sk-item\"><div class=\"sk-estimator sk-toggleable\"><input class=\"sk-toggleable__control sk-hidden--visually\" id=\"12d35811-eb24-4119-8c3d-c628fafab3a3\" type=\"checkbox\" ><label for=\"12d35811-eb24-4119-8c3d-c628fafab3a3\" class=\"sk-toggleable__label sk-toggleable__label-arrow\">StandardScaler</label><div class=\"sk-toggleable__content\"><pre>StandardScaler()</pre></div></div></div></div></div></div></div></div></div></div></div></div>"
      ],
      "text/plain": [
       "ColumnTransformer(transformers=[('categorical',\n",
       "                                 Pipeline(steps=[('impute_constant',\n",
       "                                                  SimpleImputer(fill_value='missing',\n",
       "                                                                strategy='constant')),\n",
       "                                                 ('oneHot', OneHotEncoder())]),\n",
       "                                 ['']),\n",
       "                                ('numerical',\n",
       "                                 Pipeline(steps=[('impute_mean',\n",
       "                                                  SimpleImputer()),\n",
       "                                                 ('scaler', StandardScaler())]),\n",
       "                                 ['mean_radius', 'mean_texture'])])"
      ]
     },
     "execution_count": 52,
     "metadata": {},
     "output_type": "execute_result"
    }
   ],
   "source": [
    "preprocessor"
   ]
  },
  {
   "cell_type": "code",
   "execution_count": 56,
   "id": "3260a606",
   "metadata": {},
   "outputs": [],
   "source": [
    "from sklearn.pipeline import make_pipeline"
   ]
  },
  {
   "cell_type": "code",
   "execution_count": 57,
   "id": "390061d6",
   "metadata": {},
   "outputs": [],
   "source": [
    "pipe2 = make_pipeline(preprocessor,LogisticRegression())"
   ]
  },
  {
   "cell_type": "code",
   "execution_count": 58,
   "id": "86bd0ca5",
   "metadata": {},
   "outputs": [
    {
     "data": {
      "text/html": [
       "<style>#sk-1026f565-5b77-4fb1-b9c3-e7737a8f1970 {color: black;background-color: white;}#sk-1026f565-5b77-4fb1-b9c3-e7737a8f1970 pre{padding: 0;}#sk-1026f565-5b77-4fb1-b9c3-e7737a8f1970 div.sk-toggleable {background-color: white;}#sk-1026f565-5b77-4fb1-b9c3-e7737a8f1970 label.sk-toggleable__label {cursor: pointer;display: block;width: 100%;margin-bottom: 0;padding: 0.3em;box-sizing: border-box;text-align: center;}#sk-1026f565-5b77-4fb1-b9c3-e7737a8f1970 label.sk-toggleable__label-arrow:before {content: \"▸\";float: left;margin-right: 0.25em;color: #696969;}#sk-1026f565-5b77-4fb1-b9c3-e7737a8f1970 label.sk-toggleable__label-arrow:hover:before {color: black;}#sk-1026f565-5b77-4fb1-b9c3-e7737a8f1970 div.sk-estimator:hover label.sk-toggleable__label-arrow:before {color: black;}#sk-1026f565-5b77-4fb1-b9c3-e7737a8f1970 div.sk-toggleable__content {max-height: 0;max-width: 0;overflow: hidden;text-align: left;background-color: #f0f8ff;}#sk-1026f565-5b77-4fb1-b9c3-e7737a8f1970 div.sk-toggleable__content pre {margin: 0.2em;color: black;border-radius: 0.25em;background-color: #f0f8ff;}#sk-1026f565-5b77-4fb1-b9c3-e7737a8f1970 input.sk-toggleable__control:checked~div.sk-toggleable__content {max-height: 200px;max-width: 100%;overflow: auto;}#sk-1026f565-5b77-4fb1-b9c3-e7737a8f1970 input.sk-toggleable__control:checked~label.sk-toggleable__label-arrow:before {content: \"▾\";}#sk-1026f565-5b77-4fb1-b9c3-e7737a8f1970 div.sk-estimator input.sk-toggleable__control:checked~label.sk-toggleable__label {background-color: #d4ebff;}#sk-1026f565-5b77-4fb1-b9c3-e7737a8f1970 div.sk-label input.sk-toggleable__control:checked~label.sk-toggleable__label {background-color: #d4ebff;}#sk-1026f565-5b77-4fb1-b9c3-e7737a8f1970 input.sk-hidden--visually {border: 0;clip: rect(1px 1px 1px 1px);clip: rect(1px, 1px, 1px, 1px);height: 1px;margin: -1px;overflow: hidden;padding: 0;position: absolute;width: 1px;}#sk-1026f565-5b77-4fb1-b9c3-e7737a8f1970 div.sk-estimator {font-family: monospace;background-color: #f0f8ff;border: 1px dotted black;border-radius: 0.25em;box-sizing: border-box;margin-bottom: 0.5em;}#sk-1026f565-5b77-4fb1-b9c3-e7737a8f1970 div.sk-estimator:hover {background-color: #d4ebff;}#sk-1026f565-5b77-4fb1-b9c3-e7737a8f1970 div.sk-parallel-item::after {content: \"\";width: 100%;border-bottom: 1px solid gray;flex-grow: 1;}#sk-1026f565-5b77-4fb1-b9c3-e7737a8f1970 div.sk-label:hover label.sk-toggleable__label {background-color: #d4ebff;}#sk-1026f565-5b77-4fb1-b9c3-e7737a8f1970 div.sk-serial::before {content: \"\";position: absolute;border-left: 1px solid gray;box-sizing: border-box;top: 2em;bottom: 0;left: 50%;}#sk-1026f565-5b77-4fb1-b9c3-e7737a8f1970 div.sk-serial {display: flex;flex-direction: column;align-items: center;background-color: white;padding-right: 0.2em;padding-left: 0.2em;}#sk-1026f565-5b77-4fb1-b9c3-e7737a8f1970 div.sk-item {z-index: 1;}#sk-1026f565-5b77-4fb1-b9c3-e7737a8f1970 div.sk-parallel {display: flex;align-items: stretch;justify-content: center;background-color: white;}#sk-1026f565-5b77-4fb1-b9c3-e7737a8f1970 div.sk-parallel::before {content: \"\";position: absolute;border-left: 1px solid gray;box-sizing: border-box;top: 2em;bottom: 0;left: 50%;}#sk-1026f565-5b77-4fb1-b9c3-e7737a8f1970 div.sk-parallel-item {display: flex;flex-direction: column;position: relative;background-color: white;}#sk-1026f565-5b77-4fb1-b9c3-e7737a8f1970 div.sk-parallel-item:first-child::after {align-self: flex-end;width: 50%;}#sk-1026f565-5b77-4fb1-b9c3-e7737a8f1970 div.sk-parallel-item:last-child::after {align-self: flex-start;width: 50%;}#sk-1026f565-5b77-4fb1-b9c3-e7737a8f1970 div.sk-parallel-item:only-child::after {width: 0;}#sk-1026f565-5b77-4fb1-b9c3-e7737a8f1970 div.sk-dashed-wrapped {border: 1px dashed gray;margin: 0 0.4em 0.5em 0.4em;box-sizing: border-box;padding-bottom: 0.4em;background-color: white;position: relative;}#sk-1026f565-5b77-4fb1-b9c3-e7737a8f1970 div.sk-label label {font-family: monospace;font-weight: bold;background-color: white;display: inline-block;line-height: 1.2em;}#sk-1026f565-5b77-4fb1-b9c3-e7737a8f1970 div.sk-label-container {position: relative;z-index: 2;text-align: center;}#sk-1026f565-5b77-4fb1-b9c3-e7737a8f1970 div.sk-container {/* jupyter's `normalize.less` sets `[hidden] { display: none; }` but bootstrap.min.css set `[hidden] { display: none !important; }` so we also need the `!important` here to be able to override the default hidden behavior on the sphinx rendered scikit-learn.org. See: https://github.com/scikit-learn/scikit-learn/issues/21755 */display: inline-block !important;position: relative;}#sk-1026f565-5b77-4fb1-b9c3-e7737a8f1970 div.sk-text-repr-fallback {display: none;}</style><div id=\"sk-1026f565-5b77-4fb1-b9c3-e7737a8f1970\" class=\"sk-top-container\"><div class=\"sk-text-repr-fallback\"><pre>Pipeline(steps=[(&#x27;columntransformer&#x27;,\n",
       "                 ColumnTransformer(transformers=[(&#x27;categorical&#x27;,\n",
       "                                                  Pipeline(steps=[(&#x27;impute_constant&#x27;,\n",
       "                                                                   SimpleImputer(fill_value=&#x27;missing&#x27;,\n",
       "                                                                                 strategy=&#x27;constant&#x27;)),\n",
       "                                                                  (&#x27;oneHot&#x27;,\n",
       "                                                                   OneHotEncoder(handle_unknown=&#x27;ignore&#x27;))]),\n",
       "                                                  [&#x27;&#x27;]),\n",
       "                                                 (&#x27;numerical&#x27;,\n",
       "                                                  Pipeline(steps=[(&#x27;impute_mean&#x27;,\n",
       "                                                                   SimpleImputer()),\n",
       "                                                                  (&#x27;scaler&#x27;,\n",
       "                                                                   StandardScaler())]),\n",
       "                                                  [&#x27;mean_radius&#x27;,\n",
       "                                                   &#x27;mean_texture&#x27;])])),\n",
       "                (&#x27;logisticregression&#x27;, LogisticRegression())])</pre><b>Please rerun this cell to show the HTML repr or trust the notebook.</b></div><div class=\"sk-container\" hidden><div class=\"sk-item sk-dashed-wrapped\"><div class=\"sk-label-container\"><div class=\"sk-label sk-toggleable\"><input class=\"sk-toggleable__control sk-hidden--visually\" id=\"0e37f377-7d57-42cb-9a47-bbc49c8fcded\" type=\"checkbox\" ><label for=\"0e37f377-7d57-42cb-9a47-bbc49c8fcded\" class=\"sk-toggleable__label sk-toggleable__label-arrow\">Pipeline</label><div class=\"sk-toggleable__content\"><pre>Pipeline(steps=[(&#x27;columntransformer&#x27;,\n",
       "                 ColumnTransformer(transformers=[(&#x27;categorical&#x27;,\n",
       "                                                  Pipeline(steps=[(&#x27;impute_constant&#x27;,\n",
       "                                                                   SimpleImputer(fill_value=&#x27;missing&#x27;,\n",
       "                                                                                 strategy=&#x27;constant&#x27;)),\n",
       "                                                                  (&#x27;oneHot&#x27;,\n",
       "                                                                   OneHotEncoder(handle_unknown=&#x27;ignore&#x27;))]),\n",
       "                                                  [&#x27;&#x27;]),\n",
       "                                                 (&#x27;numerical&#x27;,\n",
       "                                                  Pipeline(steps=[(&#x27;impute_mean&#x27;,\n",
       "                                                                   SimpleImputer()),\n",
       "                                                                  (&#x27;scaler&#x27;,\n",
       "                                                                   StandardScaler())]),\n",
       "                                                  [&#x27;mean_radius&#x27;,\n",
       "                                                   &#x27;mean_texture&#x27;])])),\n",
       "                (&#x27;logisticregression&#x27;, LogisticRegression())])</pre></div></div></div><div class=\"sk-serial\"><div class=\"sk-item sk-dashed-wrapped\"><div class=\"sk-label-container\"><div class=\"sk-label sk-toggleable\"><input class=\"sk-toggleable__control sk-hidden--visually\" id=\"1acd9879-04c7-4e5e-801f-b52bec6759fc\" type=\"checkbox\" ><label for=\"1acd9879-04c7-4e5e-801f-b52bec6759fc\" class=\"sk-toggleable__label sk-toggleable__label-arrow\">columntransformer: ColumnTransformer</label><div class=\"sk-toggleable__content\"><pre>ColumnTransformer(transformers=[(&#x27;categorical&#x27;,\n",
       "                                 Pipeline(steps=[(&#x27;impute_constant&#x27;,\n",
       "                                                  SimpleImputer(fill_value=&#x27;missing&#x27;,\n",
       "                                                                strategy=&#x27;constant&#x27;)),\n",
       "                                                 (&#x27;oneHot&#x27;,\n",
       "                                                  OneHotEncoder(handle_unknown=&#x27;ignore&#x27;))]),\n",
       "                                 [&#x27;&#x27;]),\n",
       "                                (&#x27;numerical&#x27;,\n",
       "                                 Pipeline(steps=[(&#x27;impute_mean&#x27;,\n",
       "                                                  SimpleImputer()),\n",
       "                                                 (&#x27;scaler&#x27;, StandardScaler())]),\n",
       "                                 [&#x27;mean_radius&#x27;, &#x27;mean_texture&#x27;])])</pre></div></div></div><div class=\"sk-parallel\"><div class=\"sk-parallel-item\"><div class=\"sk-item\"><div class=\"sk-label-container\"><div class=\"sk-label sk-toggleable\"><input class=\"sk-toggleable__control sk-hidden--visually\" id=\"ea06c79c-9f29-4889-91c7-346301114f76\" type=\"checkbox\" ><label for=\"ea06c79c-9f29-4889-91c7-346301114f76\" class=\"sk-toggleable__label sk-toggleable__label-arrow\">categorical</label><div class=\"sk-toggleable__content\"><pre>[&#x27;&#x27;]</pre></div></div></div><div class=\"sk-serial\"><div class=\"sk-item\"><div class=\"sk-serial\"><div class=\"sk-item\"><div class=\"sk-estimator sk-toggleable\"><input class=\"sk-toggleable__control sk-hidden--visually\" id=\"ebb5e778-fe88-44e7-ad07-cf184fc1800b\" type=\"checkbox\" ><label for=\"ebb5e778-fe88-44e7-ad07-cf184fc1800b\" class=\"sk-toggleable__label sk-toggleable__label-arrow\">SimpleImputer</label><div class=\"sk-toggleable__content\"><pre>SimpleImputer(fill_value=&#x27;missing&#x27;, strategy=&#x27;constant&#x27;)</pre></div></div></div><div class=\"sk-item\"><div class=\"sk-estimator sk-toggleable\"><input class=\"sk-toggleable__control sk-hidden--visually\" id=\"004e4151-19da-44d4-b2f2-a9c0c12e5a76\" type=\"checkbox\" ><label for=\"004e4151-19da-44d4-b2f2-a9c0c12e5a76\" class=\"sk-toggleable__label sk-toggleable__label-arrow\">OneHotEncoder</label><div class=\"sk-toggleable__content\"><pre>OneHotEncoder(handle_unknown=&#x27;ignore&#x27;)</pre></div></div></div></div></div></div></div></div><div class=\"sk-parallel-item\"><div class=\"sk-item\"><div class=\"sk-label-container\"><div class=\"sk-label sk-toggleable\"><input class=\"sk-toggleable__control sk-hidden--visually\" id=\"ff978558-ee17-4d4a-a80a-335929faa7e8\" type=\"checkbox\" ><label for=\"ff978558-ee17-4d4a-a80a-335929faa7e8\" class=\"sk-toggleable__label sk-toggleable__label-arrow\">numerical</label><div class=\"sk-toggleable__content\"><pre>[&#x27;mean_radius&#x27;, &#x27;mean_texture&#x27;]</pre></div></div></div><div class=\"sk-serial\"><div class=\"sk-item\"><div class=\"sk-serial\"><div class=\"sk-item\"><div class=\"sk-estimator sk-toggleable\"><input class=\"sk-toggleable__control sk-hidden--visually\" id=\"b99d067d-cc54-4b8a-be87-843c162bdfdb\" type=\"checkbox\" ><label for=\"b99d067d-cc54-4b8a-be87-843c162bdfdb\" class=\"sk-toggleable__label sk-toggleable__label-arrow\">SimpleImputer</label><div class=\"sk-toggleable__content\"><pre>SimpleImputer()</pre></div></div></div><div class=\"sk-item\"><div class=\"sk-estimator sk-toggleable\"><input class=\"sk-toggleable__control sk-hidden--visually\" id=\"d81fc612-f89e-4b3e-8b44-75a20c8fd920\" type=\"checkbox\" ><label for=\"d81fc612-f89e-4b3e-8b44-75a20c8fd920\" class=\"sk-toggleable__label sk-toggleable__label-arrow\">StandardScaler</label><div class=\"sk-toggleable__content\"><pre>StandardScaler()</pre></div></div></div></div></div></div></div></div></div></div><div class=\"sk-item\"><div class=\"sk-estimator sk-toggleable\"><input class=\"sk-toggleable__control sk-hidden--visually\" id=\"964f6148-c9d5-4246-83a3-41b9258c08ec\" type=\"checkbox\" ><label for=\"964f6148-c9d5-4246-83a3-41b9258c08ec\" class=\"sk-toggleable__label sk-toggleable__label-arrow\">LogisticRegression</label><div class=\"sk-toggleable__content\"><pre>LogisticRegression()</pre></div></div></div></div></div></div></div>"
      ],
      "text/plain": [
       "Pipeline(steps=[('columntransformer',\n",
       "                 ColumnTransformer(transformers=[('categorical',\n",
       "                                                  Pipeline(steps=[('impute_constant',\n",
       "                                                                   SimpleImputer(fill_value='missing',\n",
       "                                                                                 strategy='constant')),\n",
       "                                                                  ('oneHot',\n",
       "                                                                   OneHotEncoder(handle_unknown='ignore'))]),\n",
       "                                                  ['']),\n",
       "                                                 ('numerical',\n",
       "                                                  Pipeline(steps=[('impute_mean',\n",
       "                                                                   SimpleImputer()),\n",
       "                                                                  ('scaler',\n",
       "                                                                   StandardScaler())]),\n",
       "                                                  ['mean_radius',\n",
       "                                                   'mean_texture'])])),\n",
       "                ('logisticregression', LogisticRegression())])"
      ]
     },
     "execution_count": 58,
     "metadata": {},
     "output_type": "execute_result"
    }
   ],
   "source": [
    "pipe2"
   ]
  },
  {
   "cell_type": "code",
   "execution_count": null,
   "id": "0e7d1989",
   "metadata": {},
   "outputs": [],
   "source": []
  }
 ],
 "metadata": {
  "kernelspec": {
   "display_name": "Python 3 (ipykernel)",
   "language": "python",
   "name": "python3"
  },
  "language_info": {
   "codemirror_mode": {
    "name": "ipython",
    "version": 3
   },
   "file_extension": ".py",
   "mimetype": "text/x-python",
   "name": "python",
   "nbconvert_exporter": "python",
   "pygments_lexer": "ipython3",
   "version": "3.9.12"
  }
 },
 "nbformat": 4,
 "nbformat_minor": 5
}
